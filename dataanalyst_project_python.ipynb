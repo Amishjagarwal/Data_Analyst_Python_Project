{
 "cells": [
  {
   "cell_type": "code",
   "execution_count": 1,
   "id": "4c9e9677",
   "metadata": {},
   "outputs": [],
   "source": [
    "import numpy as np\n"
   ]
  },
  {
   "cell_type": "code",
   "execution_count": 2,
   "id": "a5a2863a",
   "metadata": {},
   "outputs": [],
   "source": [
    "import pandas as pd"
   ]
  },
  {
   "cell_type": "code",
   "execution_count": 3,
   "id": "250f7bce",
   "metadata": {},
   "outputs": [],
   "source": [
    "import matplotlib.pyplot as plt\n",
    "%matplotlib inline"
   ]
  },
  {
   "cell_type": "code",
   "execution_count": 4,
   "id": "007da5a0",
   "metadata": {},
   "outputs": [],
   "source": [
    "import seaborn as sns\n"
   ]
  },
  {
   "cell_type": "code",
   "execution_count": 5,
   "id": "5c591c63",
   "metadata": {},
   "outputs": [],
   "source": [
    "df = pd.read_csv('E-commerce Customer Behavior.csv') "
   ]
  },
  {
   "cell_type": "code",
   "execution_count": 6,
   "id": "87fe6850",
   "metadata": {},
   "outputs": [
    {
     "data": {
      "text/plain": [
       "(350, 11)"
      ]
     },
     "execution_count": 6,
     "metadata": {},
     "output_type": "execute_result"
    }
   ],
   "source": [
    "df.shape"
   ]
  },
  {
   "cell_type": "code",
   "execution_count": 7,
   "id": "8759a4b2",
   "metadata": {},
   "outputs": [
    {
     "data": {
      "text/html": [
       "<div>\n",
       "<style scoped>\n",
       "    .dataframe tbody tr th:only-of-type {\n",
       "        vertical-align: middle;\n",
       "    }\n",
       "\n",
       "    .dataframe tbody tr th {\n",
       "        vertical-align: top;\n",
       "    }\n",
       "\n",
       "    .dataframe thead th {\n",
       "        text-align: right;\n",
       "    }\n",
       "</style>\n",
       "<table border=\"1\" class=\"dataframe\">\n",
       "  <thead>\n",
       "    <tr style=\"text-align: right;\">\n",
       "      <th></th>\n",
       "      <th>Customer ID</th>\n",
       "      <th>Gender</th>\n",
       "      <th>Age</th>\n",
       "      <th>City</th>\n",
       "      <th>Membership</th>\n",
       "      <th>Spend</th>\n",
       "      <th>Order</th>\n",
       "      <th>Rating</th>\n",
       "      <th>Discount_Applied</th>\n",
       "      <th>Satisfaction</th>\n",
       "      <th>Coupon_code</th>\n",
       "    </tr>\n",
       "  </thead>\n",
       "  <tbody>\n",
       "    <tr>\n",
       "      <th>0</th>\n",
       "      <td>101</td>\n",
       "      <td>Female</td>\n",
       "      <td>29</td>\n",
       "      <td>New York</td>\n",
       "      <td>Gold</td>\n",
       "      <td>1120.20</td>\n",
       "      <td>14</td>\n",
       "      <td>4.6</td>\n",
       "      <td>True</td>\n",
       "      <td>Satisfied</td>\n",
       "      <td>NaN</td>\n",
       "    </tr>\n",
       "    <tr>\n",
       "      <th>1</th>\n",
       "      <td>102</td>\n",
       "      <td>Male</td>\n",
       "      <td>34</td>\n",
       "      <td>Los Angeles</td>\n",
       "      <td>Silver</td>\n",
       "      <td>780.50</td>\n",
       "      <td>11</td>\n",
       "      <td>4.1</td>\n",
       "      <td>False</td>\n",
       "      <td>Neutral</td>\n",
       "      <td>NaN</td>\n",
       "    </tr>\n",
       "    <tr>\n",
       "      <th>2</th>\n",
       "      <td>103</td>\n",
       "      <td>Female</td>\n",
       "      <td>43</td>\n",
       "      <td>Chicago</td>\n",
       "      <td>Bronze</td>\n",
       "      <td>510.75</td>\n",
       "      <td>9</td>\n",
       "      <td>3.4</td>\n",
       "      <td>True</td>\n",
       "      <td>Unsatisfied</td>\n",
       "      <td>NaN</td>\n",
       "    </tr>\n",
       "    <tr>\n",
       "      <th>3</th>\n",
       "      <td>104</td>\n",
       "      <td>Male</td>\n",
       "      <td>30</td>\n",
       "      <td>San Francisco</td>\n",
       "      <td>Gold</td>\n",
       "      <td>1480.30</td>\n",
       "      <td>19</td>\n",
       "      <td>4.7</td>\n",
       "      <td>False</td>\n",
       "      <td>Satisfied</td>\n",
       "      <td>NaN</td>\n",
       "    </tr>\n",
       "    <tr>\n",
       "      <th>4</th>\n",
       "      <td>105</td>\n",
       "      <td>Male</td>\n",
       "      <td>27</td>\n",
       "      <td>Miami</td>\n",
       "      <td>Silver</td>\n",
       "      <td>720.40</td>\n",
       "      <td>13</td>\n",
       "      <td>4.0</td>\n",
       "      <td>True</td>\n",
       "      <td>Unsatisfied</td>\n",
       "      <td>NaN</td>\n",
       "    </tr>\n",
       "  </tbody>\n",
       "</table>\n",
       "</div>"
      ],
      "text/plain": [
       "   Customer ID  Gender  Age           City Membership    Spend  Order  Rating  \\\n",
       "0          101  Female   29       New York       Gold  1120.20     14     4.6   \n",
       "1          102    Male   34    Los Angeles     Silver   780.50     11     4.1   \n",
       "2          103  Female   43        Chicago     Bronze   510.75      9     3.4   \n",
       "3          104    Male   30  San Francisco       Gold  1480.30     19     4.7   \n",
       "4          105    Male   27          Miami     Silver   720.40     13     4.0   \n",
       "\n",
       "   Discount_Applied Satisfaction  Coupon_code  \n",
       "0              True    Satisfied          NaN  \n",
       "1             False      Neutral          NaN  \n",
       "2              True  Unsatisfied          NaN  \n",
       "3             False    Satisfied          NaN  \n",
       "4              True  Unsatisfied          NaN  "
      ]
     },
     "execution_count": 7,
     "metadata": {},
     "output_type": "execute_result"
    }
   ],
   "source": [
    "df.head()\n"
   ]
  },
  {
   "cell_type": "code",
   "execution_count": 8,
   "id": "ee3fc24b",
   "metadata": {},
   "outputs": [
    {
     "name": "stdout",
     "output_type": "stream",
     "text": [
      "<class 'pandas.core.frame.DataFrame'>\n",
      "RangeIndex: 350 entries, 0 to 349\n",
      "Data columns (total 11 columns):\n",
      " #   Column            Non-Null Count  Dtype  \n",
      "---  ------            --------------  -----  \n",
      " 0   Customer ID       350 non-null    int64  \n",
      " 1   Gender            350 non-null    object \n",
      " 2   Age               350 non-null    int64  \n",
      " 3   City              350 non-null    object \n",
      " 4   Membership        350 non-null    object \n",
      " 5   Spend             350 non-null    float64\n",
      " 6   Order             350 non-null    int64  \n",
      " 7   Rating            350 non-null    float64\n",
      " 8   Discount_Applied  350 non-null    bool   \n",
      " 9   Satisfaction      348 non-null    object \n",
      " 10  Coupon_code       0 non-null      float64\n",
      "dtypes: bool(1), float64(3), int64(3), object(4)\n",
      "memory usage: 27.8+ KB\n"
     ]
    }
   ],
   "source": [
    "df.info()"
   ]
  },
  {
   "cell_type": "code",
   "execution_count": 9,
   "id": "8d46571b",
   "metadata": {},
   "outputs": [],
   "source": [
    "df.drop(['Coupon_code'], axis=1, inplace= True)"
   ]
  },
  {
   "cell_type": "code",
   "execution_count": 10,
   "id": "c874b87c",
   "metadata": {},
   "outputs": [
    {
     "name": "stdout",
     "output_type": "stream",
     "text": [
      "<class 'pandas.core.frame.DataFrame'>\n",
      "RangeIndex: 350 entries, 0 to 349\n",
      "Data columns (total 10 columns):\n",
      " #   Column            Non-Null Count  Dtype  \n",
      "---  ------            --------------  -----  \n",
      " 0   Customer ID       350 non-null    int64  \n",
      " 1   Gender            350 non-null    object \n",
      " 2   Age               350 non-null    int64  \n",
      " 3   City              350 non-null    object \n",
      " 4   Membership        350 non-null    object \n",
      " 5   Spend             350 non-null    float64\n",
      " 6   Order             350 non-null    int64  \n",
      " 7   Rating            350 non-null    float64\n",
      " 8   Discount_Applied  350 non-null    bool   \n",
      " 9   Satisfaction      348 non-null    object \n",
      "dtypes: bool(1), float64(2), int64(3), object(4)\n",
      "memory usage: 25.1+ KB\n"
     ]
    }
   ],
   "source": [
    "df.info()"
   ]
  },
  {
   "cell_type": "code",
   "execution_count": 11,
   "id": "57d698ab",
   "metadata": {},
   "outputs": [
    {
     "data": {
      "text/html": [
       "<div>\n",
       "<style scoped>\n",
       "    .dataframe tbody tr th:only-of-type {\n",
       "        vertical-align: middle;\n",
       "    }\n",
       "\n",
       "    .dataframe tbody tr th {\n",
       "        vertical-align: top;\n",
       "    }\n",
       "\n",
       "    .dataframe thead th {\n",
       "        text-align: right;\n",
       "    }\n",
       "</style>\n",
       "<table border=\"1\" class=\"dataframe\">\n",
       "  <thead>\n",
       "    <tr style=\"text-align: right;\">\n",
       "      <th></th>\n",
       "      <th>Customer ID</th>\n",
       "      <th>Gender</th>\n",
       "      <th>Age</th>\n",
       "      <th>City</th>\n",
       "      <th>Membership</th>\n",
       "      <th>Spend</th>\n",
       "      <th>Order</th>\n",
       "      <th>Rating</th>\n",
       "      <th>Discount_Applied</th>\n",
       "      <th>Satisfaction</th>\n",
       "    </tr>\n",
       "  </thead>\n",
       "  <tbody>\n",
       "    <tr>\n",
       "      <th>0</th>\n",
       "      <td>False</td>\n",
       "      <td>False</td>\n",
       "      <td>False</td>\n",
       "      <td>False</td>\n",
       "      <td>False</td>\n",
       "      <td>False</td>\n",
       "      <td>False</td>\n",
       "      <td>False</td>\n",
       "      <td>False</td>\n",
       "      <td>False</td>\n",
       "    </tr>\n",
       "    <tr>\n",
       "      <th>1</th>\n",
       "      <td>False</td>\n",
       "      <td>False</td>\n",
       "      <td>False</td>\n",
       "      <td>False</td>\n",
       "      <td>False</td>\n",
       "      <td>False</td>\n",
       "      <td>False</td>\n",
       "      <td>False</td>\n",
       "      <td>False</td>\n",
       "      <td>False</td>\n",
       "    </tr>\n",
       "    <tr>\n",
       "      <th>2</th>\n",
       "      <td>False</td>\n",
       "      <td>False</td>\n",
       "      <td>False</td>\n",
       "      <td>False</td>\n",
       "      <td>False</td>\n",
       "      <td>False</td>\n",
       "      <td>False</td>\n",
       "      <td>False</td>\n",
       "      <td>False</td>\n",
       "      <td>False</td>\n",
       "    </tr>\n",
       "    <tr>\n",
       "      <th>3</th>\n",
       "      <td>False</td>\n",
       "      <td>False</td>\n",
       "      <td>False</td>\n",
       "      <td>False</td>\n",
       "      <td>False</td>\n",
       "      <td>False</td>\n",
       "      <td>False</td>\n",
       "      <td>False</td>\n",
       "      <td>False</td>\n",
       "      <td>False</td>\n",
       "    </tr>\n",
       "    <tr>\n",
       "      <th>4</th>\n",
       "      <td>False</td>\n",
       "      <td>False</td>\n",
       "      <td>False</td>\n",
       "      <td>False</td>\n",
       "      <td>False</td>\n",
       "      <td>False</td>\n",
       "      <td>False</td>\n",
       "      <td>False</td>\n",
       "      <td>False</td>\n",
       "      <td>False</td>\n",
       "    </tr>\n",
       "    <tr>\n",
       "      <th>...</th>\n",
       "      <td>...</td>\n",
       "      <td>...</td>\n",
       "      <td>...</td>\n",
       "      <td>...</td>\n",
       "      <td>...</td>\n",
       "      <td>...</td>\n",
       "      <td>...</td>\n",
       "      <td>...</td>\n",
       "      <td>...</td>\n",
       "      <td>...</td>\n",
       "    </tr>\n",
       "    <tr>\n",
       "      <th>345</th>\n",
       "      <td>False</td>\n",
       "      <td>False</td>\n",
       "      <td>False</td>\n",
       "      <td>False</td>\n",
       "      <td>False</td>\n",
       "      <td>False</td>\n",
       "      <td>False</td>\n",
       "      <td>False</td>\n",
       "      <td>False</td>\n",
       "      <td>False</td>\n",
       "    </tr>\n",
       "    <tr>\n",
       "      <th>346</th>\n",
       "      <td>False</td>\n",
       "      <td>False</td>\n",
       "      <td>False</td>\n",
       "      <td>False</td>\n",
       "      <td>False</td>\n",
       "      <td>False</td>\n",
       "      <td>False</td>\n",
       "      <td>False</td>\n",
       "      <td>False</td>\n",
       "      <td>False</td>\n",
       "    </tr>\n",
       "    <tr>\n",
       "      <th>347</th>\n",
       "      <td>False</td>\n",
       "      <td>False</td>\n",
       "      <td>False</td>\n",
       "      <td>False</td>\n",
       "      <td>False</td>\n",
       "      <td>False</td>\n",
       "      <td>False</td>\n",
       "      <td>False</td>\n",
       "      <td>False</td>\n",
       "      <td>False</td>\n",
       "    </tr>\n",
       "    <tr>\n",
       "      <th>348</th>\n",
       "      <td>False</td>\n",
       "      <td>False</td>\n",
       "      <td>False</td>\n",
       "      <td>False</td>\n",
       "      <td>False</td>\n",
       "      <td>False</td>\n",
       "      <td>False</td>\n",
       "      <td>False</td>\n",
       "      <td>False</td>\n",
       "      <td>False</td>\n",
       "    </tr>\n",
       "    <tr>\n",
       "      <th>349</th>\n",
       "      <td>False</td>\n",
       "      <td>False</td>\n",
       "      <td>False</td>\n",
       "      <td>False</td>\n",
       "      <td>False</td>\n",
       "      <td>False</td>\n",
       "      <td>False</td>\n",
       "      <td>False</td>\n",
       "      <td>False</td>\n",
       "      <td>False</td>\n",
       "    </tr>\n",
       "  </tbody>\n",
       "</table>\n",
       "<p>350 rows × 10 columns</p>\n",
       "</div>"
      ],
      "text/plain": [
       "     Customer ID  Gender    Age   City  Membership  Spend  Order  Rating  \\\n",
       "0          False   False  False  False       False  False  False   False   \n",
       "1          False   False  False  False       False  False  False   False   \n",
       "2          False   False  False  False       False  False  False   False   \n",
       "3          False   False  False  False       False  False  False   False   \n",
       "4          False   False  False  False       False  False  False   False   \n",
       "..           ...     ...    ...    ...         ...    ...    ...     ...   \n",
       "345        False   False  False  False       False  False  False   False   \n",
       "346        False   False  False  False       False  False  False   False   \n",
       "347        False   False  False  False       False  False  False   False   \n",
       "348        False   False  False  False       False  False  False   False   \n",
       "349        False   False  False  False       False  False  False   False   \n",
       "\n",
       "     Discount_Applied  Satisfaction  \n",
       "0               False         False  \n",
       "1               False         False  \n",
       "2               False         False  \n",
       "3               False         False  \n",
       "4               False         False  \n",
       "..                ...           ...  \n",
       "345             False         False  \n",
       "346             False         False  \n",
       "347             False         False  \n",
       "348             False         False  \n",
       "349             False         False  \n",
       "\n",
       "[350 rows x 10 columns]"
      ]
     },
     "execution_count": 11,
     "metadata": {},
     "output_type": "execute_result"
    }
   ],
   "source": [
    "pd.isnull(df)"
   ]
  },
  {
   "cell_type": "code",
   "execution_count": 12,
   "id": "28f17658",
   "metadata": {},
   "outputs": [
    {
     "data": {
      "text/plain": [
       "Customer ID         0\n",
       "Gender              0\n",
       "Age                 0\n",
       "City                0\n",
       "Membership          0\n",
       "Spend               0\n",
       "Order               0\n",
       "Rating              0\n",
       "Discount_Applied    0\n",
       "Satisfaction        2\n",
       "dtype: int64"
      ]
     },
     "execution_count": 12,
     "metadata": {},
     "output_type": "execute_result"
    }
   ],
   "source": [
    "pd.isnull(df).sum()"
   ]
  },
  {
   "cell_type": "code",
   "execution_count": 13,
   "id": "379805e7",
   "metadata": {},
   "outputs": [
    {
     "data": {
      "text/plain": [
       "(350, 10)"
      ]
     },
     "execution_count": 13,
     "metadata": {},
     "output_type": "execute_result"
    }
   ],
   "source": [
    "df.shape"
   ]
  },
  {
   "cell_type": "code",
   "execution_count": 14,
   "id": "ee8c0fff",
   "metadata": {},
   "outputs": [],
   "source": [
    "df.dropna(inplace=True)"
   ]
  },
  {
   "cell_type": "code",
   "execution_count": 15,
   "id": "ddbabda7",
   "metadata": {},
   "outputs": [
    {
     "data": {
      "text/plain": [
       "(348, 10)"
      ]
     },
     "execution_count": 15,
     "metadata": {},
     "output_type": "execute_result"
    }
   ],
   "source": [
    "df.shape"
   ]
  },
  {
   "cell_type": "code",
   "execution_count": 16,
   "id": "055ec455",
   "metadata": {},
   "outputs": [
    {
     "data": {
      "text/plain": [
       "Index(['Customer ID', 'Gender', 'Age', 'City', 'Membership', 'Spend', 'Order',\n",
       "       'Rating', 'Discount_Applied', 'Satisfaction'],\n",
       "      dtype='object')"
      ]
     },
     "execution_count": 16,
     "metadata": {},
     "output_type": "execute_result"
    }
   ],
   "source": [
    "df.columns"
   ]
  },
  {
   "cell_type": "markdown",
   "id": "54b5cd8d",
   "metadata": {},
   "source": [
    "# Gender"
   ]
  },
  {
   "cell_type": "code",
   "execution_count": 17,
   "id": "d44ce126",
   "metadata": {
    "scrolled": true
   },
   "outputs": [
    {
     "data": {
      "image/png": "[encoded data removed]",
      "text/plain": [
       "<Figure size 432x288 with 1 Axes>"
      ]
     },
     "metadata": {
      "needs_background": "light"
     },
     "output_type": "display_data"
    }
   ],
   "source": [
    "ax =sns.countplot(x = 'Gender', data = df)\n",
    "for bars in ax.containers:\n",
    "    ax.bar_label(bars)"
   ]
  },
  {
   "cell_type": "code",
   "execution_count": 18,
   "id": "51121ff9",
   "metadata": {},
   "outputs": [
    {
     "data": {
      "text/plain": [
       "<Axes: xlabel='Gender', ylabel='Spend'>"
      ]
     },
     "execution_count": 18,
     "metadata": {},
     "output_type": "execute_result"
    },
    {
     "data": {
      "image/png": "[encoded data removed]",
      "text/plain": [
       "<Figure size 432x288 with 1 Axes>"
      ]
     },
     "metadata": {
      "needs_background": "light"
     },
     "output_type": "display_data"
    }
   ],
   "source": [
    "sales_gen = df.groupby(['Gender'], as_index= False)['Spend'].sum().sort_values(by='Spend', ascending =False)\n",
    "sns.barplot(x='Gender', y='Spend', data = sales_gen)"
   ]
  },
  {
   "cell_type": "markdown",
   "id": "ce6eac98",
   "metadata": {},
   "source": [
    "#By above graph we can see that most of the money spend by male as compared by female despite having quite similar \n",
    "#order count which can be seen one above graph"
   ]
  },
  {
   "cell_type": "markdown",
   "id": "95054be9",
   "metadata": {},
   "source": [
    "# Age"
   ]
  },
  {
   "cell_type": "code",
   "execution_count": 19,
   "id": "70a1d344",
   "metadata": {},
   "outputs": [
    {
     "data": {
      "text/plain": [
       "Index(['Customer ID', 'Gender', 'Age', 'City', 'Membership', 'Spend', 'Order',\n",
       "       'Rating', 'Discount_Applied', 'Satisfaction'],\n",
       "      dtype='object')"
      ]
     },
     "execution_count": 19,
     "metadata": {},
     "output_type": "execute_result"
    }
   ],
   "source": [
    "df.columns"
   ]
  },
  {
   "cell_type": "code",
   "execution_count": 20,
   "id": "577c8521",
   "metadata": {},
   "outputs": [
    {
     "data": {
      "image/png": "[encoded data removed]",
      "text/plain": [
       "<Figure size 432x288 with 1 Axes>"
      ]
     },
     "metadata": {
      "needs_background": "light"
     },
     "output_type": "display_data"
    }
   ],
   "source": [
    "ax = sns.countplot(x='Age',  data = df, hue= 'Gender')\n",
    "for bars in ax.containers:\n",
    "    ax.bar_label(bars)\n"
   ]
  },
  {
   "cell_type": "code",
   "execution_count": 21,
   "id": "2c10da16",
   "metadata": {},
   "outputs": [
    {
     "data": {
      "text/plain": [
       "<Axes: xlabel='Age', ylabel='Spend'>"
      ]
     },
     "execution_count": 21,
     "metadata": {},
     "output_type": "execute_result"
    },
    {
     "data": {
      "image/png": "[encoded data removed]",
      "text/plain": [
       "<Figure size 432x288 with 1 Axes>"
      ]
     },
     "metadata": {
      "needs_background": "light"
     },
     "output_type": "display_data"
    }
   ],
   "source": [
    "sales_age = df.groupby(['Age'], as_index= False)['Spend'].sum().sort_values(by='Spend', ascending =False)\n",
    "sns.barplot(x='Age', y='Spend', data = sales_age)"
   ]
  },
  {
   "cell_type": "markdown",
   "id": "101503ce",
   "metadata": {},
   "source": [
    "#By above graph we can say most of the order came from 27to35 age group."
   ]
  },
  {
   "cell_type": "markdown",
   "id": "4cc2cc78",
   "metadata": {},
   "source": [
    "# City"
   ]
  },
  {
   "cell_type": "code",
   "execution_count": 22,
   "id": "73770f48",
   "metadata": {},
   "outputs": [
    {
     "data": {
      "text/plain": [
       "<Axes: xlabel='City', ylabel='Order'>"
      ]
     },
     "execution_count": 22,
     "metadata": {},
     "output_type": "execute_result"
    },
    {
     "data": {
      "image/png": "[encoded data removed]",
      "text/plain": [
       "<Figure size 720x360 with 1 Axes>"
      ]
     },
     "metadata": {},
     "output_type": "display_data"
    }
   ],
   "source": [
    "sales_city = df.groupby(['City'], as_index= False)['Order'].sum().sort_values(by='Order', ascending =False)\n",
    "sns.set(rc = {'figure.figsize':(10,5)})\n",
    "sns.barplot(x='City', y='Order', data = sales_city)"
   ]
  },
  {
   "cell_type": "code",
   "execution_count": 23,
   "id": "31e82948",
   "metadata": {},
   "outputs": [
    {
     "data": {
      "text/plain": [
       "<Axes: xlabel='City', ylabel='Spend'>"
      ]
     },
     "execution_count": 23,
     "metadata": {},
     "output_type": "execute_result"
    },
    {
     "data": {
      "image/png": "[encoded data removed]",
      "text/plain": [
       "<Figure size 720x360 with 1 Axes>"
      ]
     },
     "metadata": {},
     "output_type": "display_data"
    }
   ],
   "source": [
    "sales_city = df.groupby(['City'], as_index= False)['Spend'].sum().sort_values(by='Spend', ascending =False)\n",
    "sns.set(rc = {'figure.figsize':(10,5)})\n",
    "sns.barplot(x='City', y='Spend', data = sales_city)"
   ]
  },
  {
   "cell_type": "markdown",
   "id": "c4d11a81",
   "metadata": {},
   "source": [
    "#By above graph we can see that most of the order/spend are from top three city San Francisco,New York, Los Angeles"
   ]
  },
  {
   "cell_type": "markdown",
   "id": "df5c0817",
   "metadata": {},
   "source": [
    "# Membership"
   ]
  },
  {
   "cell_type": "code",
   "execution_count": 24,
   "id": "30d1155f",
   "metadata": {},
   "outputs": [
    {
     "data": {
      "image/png": "[encoded data removed]",
      "text/plain": [
       "<Figure size 720x360 with 1 Axes>"
      ]
     },
     "metadata": {},
     "output_type": "display_data"
    }
   ],
   "source": [
    "ax = sns.countplot(x='Membership',  data = df)\n",
    "sns.set(rc = {'figure.figsize':(10,5)})"
   ]
  },
  {
   "cell_type": "code",
   "execution_count": 25,
   "id": "7e7f6317",
   "metadata": {},
   "outputs": [
    {
     "data": {
      "text/plain": [
       "<Axes: xlabel='Membership', ylabel='Spend'>"
      ]
     },
     "execution_count": 25,
     "metadata": {},
     "output_type": "execute_result"
    },
    {
     "data": {
      "image/png": "[encoded data removed]",
      "text/plain": [
       "<Figure size 360x360 with 1 Axes>"
      ]
     },
     "metadata": {},
     "output_type": "display_data"
    }
   ],
   "source": [
    "sales_membership = df.groupby(['Membership'], as_index= False)['Spend'].sum().sort_values(by='Spend', ascending =False)\n",
    "sns.set(rc = {'figure.figsize':(5,5)})\n",
    "sns.barplot(x='Membership', y='Spend', data = sales_membership)"
   ]
  },
  {
   "cell_type": "markdown",
   "id": "3ad05bd3",
   "metadata": {},
   "source": [
    "#By above graph we can see that most of the amount spend by Gold member"
   ]
  },
  {
   "cell_type": "markdown",
   "id": "28dcbb9d",
   "metadata": {},
   "source": [
    "# Rating"
   ]
  },
  {
   "cell_type": "code",
   "execution_count": 26,
   "id": "61c4a0d8",
   "metadata": {},
   "outputs": [
    {
     "data": {
      "text/plain": [
       "<Axes: xlabel='Gender', ylabel='Rating'>"
      ]
     },
     "execution_count": 26,
     "metadata": {},
     "output_type": "execute_result"
    },
    {
     "data": {
      "image/png": "[encoded data removed]",
      "text/plain": [
       "<Figure size 360x360 with 1 Axes>"
      ]
     },
     "metadata": {},
     "output_type": "display_data"
    }
   ],
   "source": [
    "rating_gen = df.groupby(['Gender'], as_index= False)['Rating'].sum().sort_values(by='Rating', ascending =False)\n",
    "sns.barplot(x='Gender', y='Rating', data = rating_gen)"
   ]
  },
  {
   "cell_type": "markdown",
   "id": "e41fb01c",
   "metadata": {},
   "source": [
    "#Hence with the above graph we can say male have given good rating as compared to female despite having \n",
    "quite similar order count"
   ]
  },
  {
   "cell_type": "markdown",
   "id": "d1e47651",
   "metadata": {},
   "source": [
    "# Discount_Applied"
   ]
  },
  {
   "cell_type": "code",
   "execution_count": 27,
   "id": "b44dff80",
   "metadata": {},
   "outputs": [
    {
     "data": {
      "text/plain": [
       "<Axes: xlabel='Discount_Applied', ylabel='Order'>"
      ]
     },
     "execution_count": 27,
     "metadata": {},
     "output_type": "execute_result"
    },
    {
     "data": {
      "image/png": "[encoded data removed]",
      "text/plain": [
       "<Figure size 360x360 with 1 Axes>"
      ]
     },
     "metadata": {},
     "output_type": "display_data"
    }
   ],
   "source": [
    "Discount_Order = df.groupby(['Discount_Applied'], as_index= False)['Order'].sum().sort_values(by='Order', ascending =False)\n",
    "sns.set(rc = {'figure.figsize':(5,5)})\n",
    "sns.barplot(x='Discount_Applied', y='Order', data = Discount_Order)"
   ]
  },
  {
   "cell_type": "markdown",
   "id": "8c46a089",
   "metadata": {},
   "source": [
    "#by above figure we can say that discount is not much impacted the order "
   ]
  },
  {
   "cell_type": "markdown",
   "id": "21015798",
   "metadata": {},
   "source": [
    "# Satisfaction"
   ]
  },
  {
   "cell_type": "code",
   "execution_count": 28,
   "id": "87e987ab",
   "metadata": {},
   "outputs": [
    {
     "data": {
      "image/png": "[encoded data removed]",
      "text/plain": [
       "<Figure size 360x360 with 1 Axes>"
      ]
     },
     "metadata": {},
     "output_type": "display_data"
    }
   ],
   "source": [
    "ax = sns.countplot(x='Satisfaction',  data = df)\n",
    "sns.set(rc = {'figure.figsize':(1,5)})"
   ]
  },
  {
   "cell_type": "code",
   "execution_count": 29,
   "id": "54339af9",
   "metadata": {},
   "outputs": [
    {
     "data": {
      "text/plain": [
       "<Axes: xlabel='Satisfaction', ylabel='Order'>"
      ]
     },
     "execution_count": 29,
     "metadata": {},
     "output_type": "execute_result"
    },
    {
     "data": {
      "image/png": "[encoded data removed]",
      "text/plain": [
       "<Figure size 360x360 with 1 Axes>"
      ]
     },
     "metadata": {},
     "output_type": "display_data"
    }
   ],
   "source": [
    "Discount_Satisfaction = df.groupby(['Satisfaction','Discount_Applied'], as_index= False)['Order'].sum().sort_values(by='Order', ascending =False)\n",
    "sns.set(rc = {'figure.figsize':(5,5)})\n",
    "sns.barplot(x='Satisfaction', y='Order', data = Discount_Satisfaction, hue = 'Discount_Applied')"
   ]
  },
  {
   "cell_type": "markdown",
   "id": "9fdc28cd",
   "metadata": {},
   "source": [
    "#by above Graph we can say discount is not impacted customer satisfaction i.e all Unsatisfied Customer applied discount"
   ]
  },
  {
   "cell_type": "markdown",
   "id": "52fa5688",
   "metadata": {},
   "source": [
    "# Conclusion"
   ]
  },
  {
   "cell_type": "code",
   "execution_count": 30,
   "id": "52ece484",
   "metadata": {},
   "outputs": [],
   "source": [
    "#There is no big difference between male/female order count\n",
    "#Most of the order coming from 27 to 35 Age group from these three top cities San Francisco,New York, Los Angeles.\n",
    "#All Membership order count are similar but Gold have spended much more amount as compared to silver and bronze\n",
    "\n"
   ]
  }
 ],
 "metadata": {
  "kernelspec": {
   "display_name": "Python 3 (ipykernel)",
   "language": "python",
   "name": "python3"
  },
  "language_info": {
   "codemirror_mode": {
    "name": "ipython",
    "version": 3
   },
   "file_extension": ".py",
   "mimetype": "text/x-python",
   "name": "python",
   "nbconvert_exporter": "python",
   "pygments_lexer": "ipython3",
   "version": "3.10.1"
  }
 },
 "nbformat": 4,
 "nbformat_minor": 5
}
